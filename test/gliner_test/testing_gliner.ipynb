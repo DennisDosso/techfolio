{
 "cells": [
  {
   "cell_type": "code",
   "execution_count": 1,
   "metadata": {},
   "outputs": [
    {
     "name": "stderr",
     "output_type": "stream",
     "text": [
      "/home/ddosso/Documents/Projects/techfolio/test/gliner_test/.venv/lib/python3.10/site-packages/tqdm/auto.py:21: TqdmWarning: IProgress not found. Please update jupyter and ipywidgets. See https://ipywidgets.readthedocs.io/en/stable/user_install.html\n",
      "  from .autonotebook import tqdm as notebook_tqdm\n"
     ]
    }
   ],
   "source": [
    "from gliner import GLiNER"
   ]
  },
  {
   "cell_type": "code",
   "execution_count": 2,
   "metadata": {},
   "outputs": [
    {
     "name": "stderr",
     "output_type": "stream",
     "text": [
      "/home/ddosso/Documents/Projects/techfolio/test/gliner_test/.venv/lib/python3.10/site-packages/transformers/convert_slow_tokenizer.py:550: UserWarning: The sentencepiece tokenizer that you are converting to a fast tokenizer uses the byte fallback option which is not implemented in the fast tokenizers. In practice this means that the fast version of the tokenizer can produce unknown tokens whereas the sentencepiece version would have converted these unknown tokens into a sequence of byte tokens matching the original piece of text.\n",
      "  warnings.warn(\n"
     ]
    }
   ],
   "source": [
    "# download the model from HF\n",
    "model = GLiNER.from_pretrained(\"urchade/gliner_base\")"
   ]
  },
  {
   "cell_type": "code",
   "execution_count": 3,
   "metadata": {},
   "outputs": [],
   "source": [
    "# test text\n",
    "text = \"\"\"\n",
    "Cristiano Ronaldo dos Santos Aveiro (Portuguese pronunciation: [kɾiʃˈtjɐnu ʁɔˈnaldu]; born 5 February 1985) is a Portuguese professional footballer who plays as a forward for and captains both Saudi Pro League club Al Nassr and the Portugal national team. Widely regarded as one of the greatest players of all time, Ronaldo has won five Ballon d'Or awards,[note 3] a record three UEFA Men's Player of the Year Awards, and four European Golden Shoes, the most by a European player. He has won 33 trophies in his career, including seven league titles, five UEFA Champions Leagues, the UEFA European Championship and the UEFA Nations League. Ronaldo holds the records for most appearances (183), goals (140) and assists (42) in the Champions League, goals in the European Championship (14), international goals (128) and international appearances (205). He is one of the few players to have made over 1,200 professional career appearances, the most by an outfield player, and has scored over 850 official senior career goals for club and country, making him the top goalscorer of all time.\n",
    "\"\"\""
   ]
  },
  {
   "cell_type": "code",
   "execution_count": 4,
   "metadata": {},
   "outputs": [],
   "source": [
    "# zero-shot labels\n",
    "labels = [\"person\", \"award\", \"date\", \"competitions\", \"teams\"]"
   ]
  },
  {
   "cell_type": "code",
   "execution_count": 5,
   "metadata": {},
   "outputs": [],
   "source": [
    "entities = model.predict_entities(text, labels)"
   ]
  },
  {
   "cell_type": "code",
   "execution_count": 6,
   "metadata": {},
   "outputs": [
    {
     "data": {
      "text/plain": [
       "[{'start': 1,\n",
       "  'end': 36,\n",
       "  'text': 'Cristiano Ronaldo dos Santos Aveiro',\n",
       "  'label': 'person'},\n",
       " {'start': 92, 'end': 107, 'text': '5 February 1985', 'label': 'date'},\n",
       " {'start': 216, 'end': 224, 'text': 'Al Nassr', 'label': 'teams'},\n",
       " {'start': 233,\n",
       "  'end': 255,\n",
       "  'text': 'Portugal national team',\n",
       "  'label': 'teams'},\n",
       " {'start': 338, 'end': 349, 'text': \"Ballon d'Or\", 'label': 'award'},\n",
       " {'start': 381,\n",
       "  'end': 417,\n",
       "  'text': \"UEFA Men's Player of the Year Awards\",\n",
       "  'label': 'award'},\n",
       " {'start': 428, 'end': 449, 'text': 'European Golden Shoes', 'label': 'award'},\n",
       " {'start': 556,\n",
       "  'end': 578,\n",
       "  'text': 'UEFA Champions Leagues',\n",
       "  'label': 'competitions'},\n",
       " {'start': 584,\n",
       "  'end': 610,\n",
       "  'text': 'UEFA European Championship',\n",
       "  'label': 'competitions'},\n",
       " {'start': 619,\n",
       "  'end': 638,\n",
       "  'text': 'UEFA Nations League',\n",
       "  'label': 'competitions'},\n",
       " {'start': 730,\n",
       "  'end': 746,\n",
       "  'text': 'Champions League',\n",
       "  'label': 'competitions'},\n",
       " {'start': 761,\n",
       "  'end': 782,\n",
       "  'text': 'European Championship',\n",
       "  'label': 'competitions'}]"
      ]
     },
     "execution_count": 6,
     "metadata": {},
     "output_type": "execute_result"
    }
   ],
   "source": [
    "entities"
   ]
  },
  {
   "cell_type": "code",
   "execution_count": 10,
   "metadata": {},
   "outputs": [
    {
     "name": "stdout",
     "output_type": "stream",
     "text": [
      "TEXT: Cristiano Ronaldo dos Santos Aveiro | LABEL: person\n",
      "TEXT: 5 February 1985 | LABEL: date\n",
      "TEXT: Al Nassr | LABEL: teams\n",
      "TEXT: Portugal national team | LABEL: teams\n",
      "TEXT: Ballon d'Or | LABEL: award\n",
      "TEXT: UEFA Men's Player of the Year Awards | LABEL: award\n",
      "TEXT: European Golden Shoes | LABEL: award\n",
      "TEXT: UEFA Champions Leagues | LABEL: competitions\n",
      "TEXT: UEFA European Championship | LABEL: competitions\n",
      "TEXT: UEFA Nations League | LABEL: competitions\n",
      "TEXT: Champions League | LABEL: competitions\n",
      "TEXT: European Championship | LABEL: competitions\n"
     ]
    }
   ],
   "source": [
    "for entity in entities:\n",
    "    print(\"TEXT:\", entity[\"text\"], \"| LABEL:\", entity[\"label\"])"
   ]
  },
  {
   "cell_type": "code",
   "execution_count": 11,
   "metadata": {},
   "outputs": [],
   "source": [
    "text = \"\"\"\n",
    "Cristiano Ronaldo dos Santos Aveiro è un calciatore professionista portoghese che gioca come attaccante \n",
    "e capitano sia per il club della Saudi Pro League Al Nassr che per la nazionale portoghese. \n",
    "Ampiamente considerato uno dei più grandi giocatori di tutti i tempi, Ronaldo ha vinto cinque premi Ballon d'Or, \n",
    "un record di tre premi UEFA Men's Player of the Year Awards e quattro Scarpe d'Oro europee, il maggior numero da parte di un giocatore europeo. Ha vinto 33 trofei nella sua carriera, tra cui sette titoli di campionato, cinque UEFA Champions League, il Campionato Europeo UEFA e la UEFA Nations League. Ronaldo detiene i record per il maggior numero di presenze (183), gol (140) e assist (42) in Champions League, gol nel Campionato Europeo (14), gol internazionali (128) e presenze internazionali (205). È uno dei pochi giocatori ad avere disputato oltre 1.200 presenze nella carriera professionale, il maggior numero da parte di un giocatore di campo, e ha segnato oltre 850 gol ufficiali nella carriera senior per club e nazionale, diventando il miglior marcatore di tutti i tempi.\n",
    "\"\"\""
   ]
  },
  {
   "cell_type": "code",
   "execution_count": 12,
   "metadata": {},
   "outputs": [],
   "source": [
    "labels = [\"person\", \"award\", \"date\", \"competitions\", \"teams\"]"
   ]
  },
  {
   "cell_type": "code",
   "execution_count": 13,
   "metadata": {},
   "outputs": [],
   "source": [
    "entities = model.predict_entities(text, labels)"
   ]
  },
  {
   "cell_type": "code",
   "execution_count": 14,
   "metadata": {},
   "outputs": [
    {
     "name": "stdout",
     "output_type": "stream",
     "text": [
      "TEXT: Cristiano Ronaldo dos Santos Aveiro | LABEL: person\n",
      "TEXT: Saudi Pro League Al Nassr | LABEL: teams\n",
      "TEXT: nazionale portoghese | LABEL: teams\n",
      "TEXT: Ballon d'Or | LABEL: award\n",
      "TEXT: UEFA Men's Player of the Year Awards | LABEL: award\n",
      "TEXT: Scarpe d'Oro europee | LABEL: award\n",
      "TEXT: UEFA Champions League | LABEL: competitions\n",
      "TEXT: Campionato Europeo UEFA | LABEL: competitions\n",
      "TEXT: UEFA Nations League | LABEL: competitions\n",
      "TEXT: Champions League | LABEL: competitions\n",
      "TEXT: Campionato Europeo | LABEL: competitions\n"
     ]
    }
   ],
   "source": [
    "for entity in entities:\n",
    "    print(\"TEXT:\", entity[\"text\"], \"| LABEL:\", entity[\"label\"])"
   ]
  },
  {
   "cell_type": "code",
   "execution_count": 15,
   "metadata": {},
   "outputs": [],
   "source": [
    "labels = [\"persona\", \"premio\", \"data\", \"competizione\", \"team\"]"
   ]
  },
  {
   "cell_type": "code",
   "execution_count": 16,
   "metadata": {},
   "outputs": [],
   "source": [
    "entities = model.predict_entities(text, labels)"
   ]
  },
  {
   "cell_type": "code",
   "execution_count": 17,
   "metadata": {},
   "outputs": [
    {
     "name": "stdout",
     "output_type": "stream",
     "text": [
      "TEXT: Cristiano Ronaldo dos Santos Aveiro | LABEL: persona\n",
      "TEXT: Saudi Pro League Al Nassr | LABEL: team\n",
      "TEXT: nazionale portoghese | LABEL: team\n",
      "TEXT: Ballon d'Or | LABEL: premio\n",
      "TEXT: UEFA Men's Player of the Year Awards | LABEL: premio\n",
      "TEXT: Scarpe d'Oro europee | LABEL: premio\n",
      "TEXT: UEFA Champions League | LABEL: competizione\n",
      "TEXT: Campionato Europeo UEFA | LABEL: competizione\n",
      "TEXT: UEFA Nations League | LABEL: competizione\n",
      "TEXT: Champions League | LABEL: competizione\n",
      "TEXT: Campionato Europeo | LABEL: competizione\n"
     ]
    }
   ],
   "source": [
    "for entity in entities:\n",
    "    print(\"TEXT:\", entity[\"text\"], \"| LABEL:\", entity[\"label\"])"
   ]
  },
  {
   "cell_type": "code",
   "execution_count": null,
   "metadata": {},
   "outputs": [],
   "source": []
  }
 ],
 "metadata": {
  "kernelspec": {
   "display_name": ".venv",
   "language": "python",
   "name": "python3"
  },
  "language_info": {
   "codemirror_mode": {
    "name": "ipython",
    "version": 3
   },
   "file_extension": ".py",
   "mimetype": "text/x-python",
   "name": "python",
   "nbconvert_exporter": "python",
   "pygments_lexer": "ipython3",
   "version": "3.10.13"
  }
 },
 "nbformat": 4,
 "nbformat_minor": 2
}
